{
 "cells": [
  {
   "cell_type": "code",
   "execution_count": 3,
   "metadata": {
    "collapsed": false
   },
   "outputs": [
    {
     "data": {
      "application/javascript": [
       "IPython.notebook.set_autosave_interval(120000)"
      ]
     },
     "metadata": {},
     "output_type": "display_data"
    },
    {
     "name": "stdout",
     "output_type": "stream",
     "text": [
      "Autosaving every 120 seconds\n",
      "Populating the interactive namespace from numpy and matplotlib\n"
     ]
    }
   ],
   "source": [
    "import numpy as np\n",
    "import matplotlib.pyplot as plt\n",
    "%autosave 120\n",
    "%pylab inline"
   ]
  },
  {
   "cell_type": "markdown",
   "metadata": {},
   "source": [
    "## Loading images into memory maps\n",
    "\n",
    "It is recommended to load large files into memory maps. Memory-mapped files only load a\n",
    "small part of large files. NumPy memory maps are array-like. In this example, we will generate\n",
    "an image of colored squares and load it into a memory map."
   ]
  },
  {
   "cell_type": "code",
   "execution_count": 10,
   "metadata": {
    "collapsed": false
   },
   "outputs": [
    {
     "ename": "IOError",
     "evalue": "[Errno 22] invalid mode ('wb') or filename: 'random_squares.raw'",
     "output_type": "error",
     "traceback": [
      "\u001b[0;31m---------------------------------------------------------------------------\u001b[0m",
      "\u001b[0;31mIOError\u001b[0m                                   Traceback (most recent call last)",
      "\u001b[0;32m<ipython-input-10-137b5357054b>\u001b[0m in \u001b[0;36m<module>\u001b[0;34m()\u001b[0m\n\u001b[1;32m     23\u001b[0m \u001b[1;33m\u001b[0m\u001b[0m\n\u001b[1;32m     24\u001b[0m \u001b[1;31m# Load into memory map\u001b[0m\u001b[1;33m\u001b[0m\u001b[1;33m\u001b[0m\u001b[0m\n\u001b[0;32m---> 25\u001b[0;31m \u001b[0mimg\u001b[0m\u001b[1;33m.\u001b[0m\u001b[0mtofile\u001b[0m\u001b[1;33m(\u001b[0m\u001b[1;34m'random_squares.raw'\u001b[0m\u001b[1;33m)\u001b[0m\u001b[1;33m\u001b[0m\u001b[0m\n\u001b[0m\u001b[1;32m     26\u001b[0m \u001b[0mimg_memmap\u001b[0m \u001b[1;33m=\u001b[0m \u001b[0mnp\u001b[0m\u001b[1;33m.\u001b[0m\u001b[0mmemmap\u001b[0m\u001b[1;33m(\u001b[0m\u001b[1;34m'random_squares.raw'\u001b[0m\u001b[1;33m,\u001b[0m \u001b[0mshape\u001b[0m\u001b[1;33m=\u001b[0m \u001b[0mimg\u001b[0m\u001b[1;33m.\u001b[0m\u001b[0mshape\u001b[0m\u001b[1;33m)\u001b[0m\u001b[1;33m\u001b[0m\u001b[0m\n\u001b[1;32m     27\u001b[0m \u001b[1;33m\u001b[0m\u001b[0m\n",
      "\u001b[0;31mIOError\u001b[0m: [Errno 22] invalid mode ('wb') or filename: 'random_squares.raw'"
     ]
    }
   ],
   "source": [
    "N = 512\n",
    "NSQUARES = 30\n",
    "\n",
    "# Initialize\n",
    "img = np.zeros((N, N), np.uint8)\n",
    "centers = np.random.randint(0, N, size=(NSQUARES, 2))\n",
    "radii = np.random.randint(0, N/9, size=NSQUARES)\n",
    "colors = np.random.randint(100, 255, size=NSQUARES)\n",
    "\n",
    "# Generate squares\n",
    "for i in xrange(NSQUARES):\n",
    "    xindices = range(centers[i][0] - radii[i], centers[i][0] + radii[i])\n",
    "    xindices = np.clip(xindices, 0, N - 1)\n",
    "    \n",
    "    yindices = range(centers[i][1] - radii[i], centers[i][1] + radii[i])\n",
    "    yindices = np.clip(yindices, 0, N - 1)\n",
    "    \n",
    "    if len(xindices) == 0 or len(yindices) == 0:\n",
    "        continue\n",
    "        \n",
    "    coordinates = np.meshgrid(xindices, yindices)\n",
    "    img[coordinates] = colors[i]\n",
    "    \n",
    "# Load into memory map\n",
    "img.tofile('random_squares.raw')\n",
    "img_memmap = np.memmap('random_squares.raw', shape= img.shape)\n",
    "\n",
    "plt.imshow(img_memmap)\n",
    "plt.axis('off')\n",
    "plt.show()\n",
    "    \n",
    "    \n",
    "    \n",
    "    \n"
   ]
  },
  {
   "cell_type": "code",
   "execution_count": null,
   "metadata": {
    "collapsed": true
   },
   "outputs": [],
   "source": []
  }
 ],
 "metadata": {
  "anaconda-cloud": {},
  "kernelspec": {
   "display_name": "Python [conda root]",
   "language": "python",
   "name": "conda-root-py"
  },
  "language_info": {
   "codemirror_mode": {
    "name": "ipython",
    "version": 2
   },
   "file_extension": ".py",
   "mimetype": "text/x-python",
   "name": "python",
   "nbconvert_exporter": "python",
   "pygments_lexer": "ipython2",
   "version": "2.7.12"
  }
 },
 "nbformat": 4,
 "nbformat_minor": 1
}
