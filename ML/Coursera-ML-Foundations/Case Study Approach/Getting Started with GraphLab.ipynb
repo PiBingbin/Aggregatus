{
 "cells": [
  {
   "cell_type": "code",
   "execution_count": 1,
   "metadata": {
    "collapsed": false
   },
   "outputs": [],
   "source": [
    "import graphlab as gl"
   ]
  },
  {
   "cell_type": "markdown",
   "metadata": {},
   "source": [
    "## Importing and parsing data"
   ]
  },
  {
   "cell_type": "code",
   "execution_count": null,
   "metadata": {
    "collapsed": false
   },
   "outputs": [],
   "source": [
    "url = 'https://static.turi.com/datasets/millionsong/song_data.csv'\n",
    "\n",
    "songs = gl.SFrame.read_csv(url)"
   ]
  },
  {
   "cell_type": "code",
   "execution_count": 4,
   "metadata": {
    "collapsed": false
   },
   "outputs": [
    {
     "name": "stdout",
     "output_type": "stream",
     "text": [
      "Canvas is accessible via web browser at the URL: http://localhost:56819/index.html\n",
      "Opening Canvas in default web browser.\n"
     ]
    }
   ],
   "source": [
    "songs.show()"
   ]
  },
  {
   "cell_type": "markdown",
   "metadata": {},
   "source": [
    "# SFrame basics"
   ]
  },
  {
   "cell_type": "code",
   "execution_count": 7,
   "metadata": {
    "collapsed": false
   },
   "outputs": [
    {
     "data": {
      "text/html": [
       "<div style=\"max-height:1000px;max-width:1500px;overflow:auto;\"><table frame=\"box\" rules=\"cols\">\n",
       "    <tr>\n",
       "        <th style=\"padding-left: 1em; padding-right: 1em; text-align: center\">song_id</th>\n",
       "        <th style=\"padding-left: 1em; padding-right: 1em; text-align: center\">title</th>\n",
       "        <th style=\"padding-left: 1em; padding-right: 1em; text-align: center\">release</th>\n",
       "        <th style=\"padding-left: 1em; padding-right: 1em; text-align: center\">artist_name</th>\n",
       "        <th style=\"padding-left: 1em; padding-right: 1em; text-align: center\">year</th>\n",
       "    </tr>\n",
       "    <tr>\n",
       "        <td style=\"padding-left: 1em; padding-right: 1em; text-align: center; vertical-align: top\">SOQMMHC12AB0180CB8</td>\n",
       "        <td style=\"padding-left: 1em; padding-right: 1em; text-align: center; vertical-align: top\">Silent Night</td>\n",
       "        <td style=\"padding-left: 1em; padding-right: 1em; text-align: center; vertical-align: top\">Monster Ballads X-Mas</td>\n",
       "        <td style=\"padding-left: 1em; padding-right: 1em; text-align: center; vertical-align: top\">Faster Pussy cat</td>\n",
       "        <td style=\"padding-left: 1em; padding-right: 1em; text-align: center; vertical-align: top\">2003</td>\n",
       "    </tr>\n",
       "    <tr>\n",
       "        <td style=\"padding-left: 1em; padding-right: 1em; text-align: center; vertical-align: top\">SOVFVAK12A8C1350D9</td>\n",
       "        <td style=\"padding-left: 1em; padding-right: 1em; text-align: center; vertical-align: top\">Tanssi vaan</td>\n",
       "        <td style=\"padding-left: 1em; padding-right: 1em; text-align: center; vertical-align: top\">Karkuteillä</td>\n",
       "        <td style=\"padding-left: 1em; padding-right: 1em; text-align: center; vertical-align: top\">Karkkiautomaatti</td>\n",
       "        <td style=\"padding-left: 1em; padding-right: 1em; text-align: center; vertical-align: top\">1995</td>\n",
       "    </tr>\n",
       "    <tr>\n",
       "        <td style=\"padding-left: 1em; padding-right: 1em; text-align: center; vertical-align: top\">SOGTUKN12AB017F4F1</td>\n",
       "        <td style=\"padding-left: 1em; padding-right: 1em; text-align: center; vertical-align: top\">No One Could Ever</td>\n",
       "        <td style=\"padding-left: 1em; padding-right: 1em; text-align: center; vertical-align: top\">Butter</td>\n",
       "        <td style=\"padding-left: 1em; padding-right: 1em; text-align: center; vertical-align: top\">Hudson Mohawke</td>\n",
       "        <td style=\"padding-left: 1em; padding-right: 1em; text-align: center; vertical-align: top\">2006</td>\n",
       "    </tr>\n",
       "    <tr>\n",
       "        <td style=\"padding-left: 1em; padding-right: 1em; text-align: center; vertical-align: top\">SOBNYVR12A8C13558C</td>\n",
       "        <td style=\"padding-left: 1em; padding-right: 1em; text-align: center; vertical-align: top\">Si Vos Querés</td>\n",
       "        <td style=\"padding-left: 1em; padding-right: 1em; text-align: center; vertical-align: top\">De Culo</td>\n",
       "        <td style=\"padding-left: 1em; padding-right: 1em; text-align: center; vertical-align: top\">Yerba Brava</td>\n",
       "        <td style=\"padding-left: 1em; padding-right: 1em; text-align: center; vertical-align: top\">2003</td>\n",
       "    </tr>\n",
       "    <tr>\n",
       "        <td style=\"padding-left: 1em; padding-right: 1em; text-align: center; vertical-align: top\">SOHSBXH12A8C13B0DF</td>\n",
       "        <td style=\"padding-left: 1em; padding-right: 1em; text-align: center; vertical-align: top\">Tangle Of Aspens</td>\n",
       "        <td style=\"padding-left: 1em; padding-right: 1em; text-align: center; vertical-align: top\">Rene Ablaze Presents<br>Winter Sessions ...</td>\n",
       "        <td style=\"padding-left: 1em; padding-right: 1em; text-align: center; vertical-align: top\">Der Mystic</td>\n",
       "        <td style=\"padding-left: 1em; padding-right: 1em; text-align: center; vertical-align: top\">0</td>\n",
       "    </tr>\n",
       "    <tr>\n",
       "        <td style=\"padding-left: 1em; padding-right: 1em; text-align: center; vertical-align: top\">SOZVAPQ12A8C13B63C</td>\n",
       "        <td style=\"padding-left: 1em; padding-right: 1em; text-align: center; vertical-align: top\">Symphony No. 1 G minor<br>\"Sinfonie ...</td>\n",
       "        <td style=\"padding-left: 1em; padding-right: 1em; text-align: center; vertical-align: top\">Berwald: Symphonies Nos.<br>1/2/3/4 ...</td>\n",
       "        <td style=\"padding-left: 1em; padding-right: 1em; text-align: center; vertical-align: top\">David Montgomery</td>\n",
       "        <td style=\"padding-left: 1em; padding-right: 1em; text-align: center; vertical-align: top\">0</td>\n",
       "    </tr>\n",
       "    <tr>\n",
       "        <td style=\"padding-left: 1em; padding-right: 1em; text-align: center; vertical-align: top\">SOQVRHI12A6D4FB2D7</td>\n",
       "        <td style=\"padding-left: 1em; padding-right: 1em; text-align: center; vertical-align: top\">We Have Got Love</td>\n",
       "        <td style=\"padding-left: 1em; padding-right: 1em; text-align: center; vertical-align: top\">Strictly The Best Vol. 34</td>\n",
       "        <td style=\"padding-left: 1em; padding-right: 1em; text-align: center; vertical-align: top\">Sasha / Turbulence</td>\n",
       "        <td style=\"padding-left: 1em; padding-right: 1em; text-align: center; vertical-align: top\">0</td>\n",
       "    </tr>\n",
       "    <tr>\n",
       "        <td style=\"padding-left: 1em; padding-right: 1em; text-align: center; vertical-align: top\">SOEYRFT12AB018936C</td>\n",
       "        <td style=\"padding-left: 1em; padding-right: 1em; text-align: center; vertical-align: top\">2 Da Beat Ch'yall</td>\n",
       "        <td style=\"padding-left: 1em; padding-right: 1em; text-align: center; vertical-align: top\">Da Bomb</td>\n",
       "        <td style=\"padding-left: 1em; padding-right: 1em; text-align: center; vertical-align: top\">Kris Kross</td>\n",
       "        <td style=\"padding-left: 1em; padding-right: 1em; text-align: center; vertical-align: top\">1993</td>\n",
       "    </tr>\n",
       "    <tr>\n",
       "        <td style=\"padding-left: 1em; padding-right: 1em; text-align: center; vertical-align: top\">SOPMIYT12A6D4F851E</td>\n",
       "        <td style=\"padding-left: 1em; padding-right: 1em; text-align: center; vertical-align: top\">Goodbye</td>\n",
       "        <td style=\"padding-left: 1em; padding-right: 1em; text-align: center; vertical-align: top\">Danny Boy</td>\n",
       "        <td style=\"padding-left: 1em; padding-right: 1em; text-align: center; vertical-align: top\">Joseph Locke</td>\n",
       "        <td style=\"padding-left: 1em; padding-right: 1em; text-align: center; vertical-align: top\">0</td>\n",
       "    </tr>\n",
       "    <tr>\n",
       "        <td style=\"padding-left: 1em; padding-right: 1em; text-align: center; vertical-align: top\">SOJCFMH12A8C13B0C2</td>\n",
       "        <td style=\"padding-left: 1em; padding-right: 1em; text-align: center; vertical-align: top\">Mama_ mama can't you see<br>? ...</td>\n",
       "        <td style=\"padding-left: 1em; padding-right: 1em; text-align: center; vertical-align: top\">March to cadence with the<br>US marines ...</td>\n",
       "        <td style=\"padding-left: 1em; padding-right: 1em; text-align: center; vertical-align: top\">The Sun Harbor's Chorus-<br>Documentary Recordings ...</td>\n",
       "        <td style=\"padding-left: 1em; padding-right: 1em; text-align: center; vertical-align: top\">0</td>\n",
       "    </tr>\n",
       "</table>\n",
       "[1000000 rows x 5 columns]<br/>Note: Only the head of the SFrame is printed.<br/>You can use print_rows(num_rows=m, num_columns=n) to print more rows and columns.\n",
       "</div>"
      ],
      "text/plain": [
       "Columns:\n",
       "\tsong_id\tstr\n",
       "\ttitle\tstr\n",
       "\trelease\tstr\n",
       "\tartist_name\tstr\n",
       "\tyear\tint\n",
       "\n",
       "Rows: 1000000\n",
       "\n",
       "Data:\n",
       "+--------------------+-------------------------------+\n",
       "|      song_id       |             title             |\n",
       "+--------------------+-------------------------------+\n",
       "| SOQMMHC12AB0180CB8 |          Silent Night         |\n",
       "| SOVFVAK12A8C1350D9 |          Tanssi vaan          |\n",
       "| SOGTUKN12AB017F4F1 |       No One Could Ever       |\n",
       "| SOBNYVR12A8C13558C |         Si Vos Querés         |\n",
       "| SOHSBXH12A8C13B0DF |        Tangle Of Aspens       |\n",
       "| SOZVAPQ12A8C13B63C | Symphony No. 1 G minor \"Si... |\n",
       "| SOQVRHI12A6D4FB2D7 |        We Have Got Love       |\n",
       "| SOEYRFT12AB018936C |       2 Da Beat Ch'yall       |\n",
       "| SOPMIYT12A6D4F851E |            Goodbye            |\n",
       "| SOJCFMH12A8C13B0C2 |   Mama_ mama can't you see ?  |\n",
       "+--------------------+-------------------------------+\n",
       "+-------------------------------+-------------------------------+------+\n",
       "|            release            |          artist_name          | year |\n",
       "+-------------------------------+-------------------------------+------+\n",
       "|     Monster Ballads X-Mas     |        Faster Pussy cat       | 2003 |\n",
       "|          Karkuteillä          |        Karkkiautomaatti       | 1995 |\n",
       "|             Butter            |         Hudson Mohawke        | 2006 |\n",
       "|            De Culo            |          Yerba Brava          | 2003 |\n",
       "| Rene Ablaze Presents Winte... |           Der Mystic          |  0   |\n",
       "| Berwald: Symphonies Nos. 1... |        David Montgomery       |  0   |\n",
       "|   Strictly The Best Vol. 34   |       Sasha / Turbulence      |  0   |\n",
       "|            Da Bomb            |           Kris Kross          | 1993 |\n",
       "|           Danny Boy           |          Joseph Locke         |  0   |\n",
       "| March to cadence with the ... | The Sun Harbor's Chorus-Do... |  0   |\n",
       "+-------------------------------+-------------------------------+------+\n",
       "[1000000 rows x 5 columns]\n",
       "Note: Only the head of the SFrame is printed.\n",
       "You can use print_rows(num_rows=m, num_columns=n) to print more rows and columns."
      ]
     },
     "execution_count": 7,
     "metadata": {},
     "output_type": "execute_result"
    }
   ],
   "source": [
    "songs"
   ]
  },
  {
   "cell_type": "code",
   "execution_count": 8,
   "metadata": {
    "collapsed": false
   },
   "outputs": [
    {
     "data": {
      "text/plain": [
       "<bound method SFrame.head of Columns:\n",
       "\tsong_id\tstr\n",
       "\ttitle\tstr\n",
       "\trelease\tstr\n",
       "\tartist_name\tstr\n",
       "\tyear\tint\n",
       "\n",
       "Rows: 1000000\n",
       "\n",
       "Data:\n",
       "+--------------------+-------------------------------+\n",
       "|      song_id       |             title             |\n",
       "+--------------------+-------------------------------+\n",
       "| SOQMMHC12AB0180CB8 |          Silent Night         |\n",
       "| SOVFVAK12A8C1350D9 |          Tanssi vaan          |\n",
       "| SOGTUKN12AB017F4F1 |       No One Could Ever       |\n",
       "| SOBNYVR12A8C13558C |         Si Vos Querés         |\n",
       "| SOHSBXH12A8C13B0DF |        Tangle Of Aspens       |\n",
       "| SOZVAPQ12A8C13B63C | Symphony No. 1 G minor \"Si... |\n",
       "| SOQVRHI12A6D4FB2D7 |        We Have Got Love       |\n",
       "| SOEYRFT12AB018936C |       2 Da Beat Ch'yall       |\n",
       "| SOPMIYT12A6D4F851E |            Goodbye            |\n",
       "| SOJCFMH12A8C13B0C2 |   Mama_ mama can't you see ?  |\n",
       "+--------------------+-------------------------------+\n",
       "+-------------------------------+-------------------------------+------+\n",
       "|            release            |          artist_name          | year |\n",
       "+-------------------------------+-------------------------------+------+\n",
       "|     Monster Ballads X-Mas     |        Faster Pussy cat       | 2003 |\n",
       "|          Karkuteillä          |        Karkkiautomaatti       | 1995 |\n",
       "|             Butter            |         Hudson Mohawke        | 2006 |\n",
       "|            De Culo            |          Yerba Brava          | 2003 |\n",
       "| Rene Ablaze Presents Winte... |           Der Mystic          |  0   |\n",
       "| Berwald: Symphonies Nos. 1... |        David Montgomery       |  0   |\n",
       "|   Strictly The Best Vol. 34   |       Sasha / Turbulence      |  0   |\n",
       "|            Da Bomb            |           Kris Kross          | 1993 |\n",
       "|           Danny Boy           |          Joseph Locke         |  0   |\n",
       "| March to cadence with the ... | The Sun Harbor's Chorus-Do... |  0   |\n",
       "+-------------------------------+-------------------------------+------+\n",
       "[1000000 rows x 5 columns]\n",
       "Note: Only the head of the SFrame is printed.\n",
       "You can use print_rows(num_rows=m, num_columns=n) to print more rows and columns.>"
      ]
     },
     "execution_count": 8,
     "metadata": {},
     "output_type": "execute_result"
    }
   ],
   "source": [
    "songs.head"
   ]
  },
  {
   "cell_type": "code",
   "execution_count": 10,
   "metadata": {
    "collapsed": false
   },
   "outputs": [
    {
     "data": {
      "text/plain": [
       "<bound method SFrame.tail of Columns:\n",
       "\tsong_id\tstr\n",
       "\ttitle\tstr\n",
       "\trelease\tstr\n",
       "\tartist_name\tstr\n",
       "\tyear\tint\n",
       "\n",
       "Rows: 1000000\n",
       "\n",
       "Data:\n",
       "+--------------------+-------------------------------+\n",
       "|      song_id       |             title             |\n",
       "+--------------------+-------------------------------+\n",
       "| SOQMMHC12AB0180CB8 |          Silent Night         |\n",
       "| SOVFVAK12A8C1350D9 |          Tanssi vaan          |\n",
       "| SOGTUKN12AB017F4F1 |       No One Could Ever       |\n",
       "| SOBNYVR12A8C13558C |         Si Vos Querés         |\n",
       "| SOHSBXH12A8C13B0DF |        Tangle Of Aspens       |\n",
       "| SOZVAPQ12A8C13B63C | Symphony No. 1 G minor \"Si... |\n",
       "| SOQVRHI12A6D4FB2D7 |        We Have Got Love       |\n",
       "| SOEYRFT12AB018936C |       2 Da Beat Ch'yall       |\n",
       "| SOPMIYT12A6D4F851E |            Goodbye            |\n",
       "| SOJCFMH12A8C13B0C2 |   Mama_ mama can't you see ?  |\n",
       "+--------------------+-------------------------------+\n",
       "+-------------------------------+-------------------------------+------+\n",
       "|            release            |          artist_name          | year |\n",
       "+-------------------------------+-------------------------------+------+\n",
       "|     Monster Ballads X-Mas     |        Faster Pussy cat       | 2003 |\n",
       "|          Karkuteillä          |        Karkkiautomaatti       | 1995 |\n",
       "|             Butter            |         Hudson Mohawke        | 2006 |\n",
       "|            De Culo            |          Yerba Brava          | 2003 |\n",
       "| Rene Ablaze Presents Winte... |           Der Mystic          |  0   |\n",
       "| Berwald: Symphonies Nos. 1... |        David Montgomery       |  0   |\n",
       "|   Strictly The Best Vol. 34   |       Sasha / Turbulence      |  0   |\n",
       "|            Da Bomb            |           Kris Kross          | 1993 |\n",
       "|           Danny Boy           |          Joseph Locke         |  0   |\n",
       "| March to cadence with the ... | The Sun Harbor's Chorus-Do... |  0   |\n",
       "+-------------------------------+-------------------------------+------+\n",
       "[1000000 rows x 5 columns]\n",
       "Note: Only the head of the SFrame is printed.\n",
       "You can use print_rows(num_rows=m, num_columns=n) to print more rows and columns.>"
      ]
     },
     "execution_count": 10,
     "metadata": {},
     "output_type": "execute_result"
    }
   ],
   "source": [
    "songs.tail"
   ]
  },
  {
   "cell_type": "markdown",
   "metadata": {},
   "source": [
    "## Open the canvas for visualization inside the notebook"
   ]
  },
  {
   "cell_type": "code",
   "execution_count": 11,
   "metadata": {
    "collapsed": true
   },
   "outputs": [],
   "source": [
    "gl.canvas.set_target('ipynb')"
   ]
  },
  {
   "cell_type": "code",
   "execution_count": 13,
   "metadata": {
    "collapsed": false
   },
   "outputs": [
    {
     "data": {
      "application/javascript": [
       "$(\"head\").append($(\"<link/>\").attr({\n",
       "  rel:  \"stylesheet\",\n",
       "  type: \"text/css\",\n",
       "  href: \"//cdnjs.cloudflare.com/ajax/libs/font-awesome/4.1.0/css/font-awesome.min.css\"\n",
       "}));\n",
       "$(\"head\").append($(\"<link/>\").attr({\n",
       "  rel:  \"stylesheet\",\n",
       "  type: \"text/css\",\n",
       "  href: \"https://static.turi.com/products/graphlab-create/2.1/canvas/css/canvas.css\"\n",
       "}));\n",
       "\n",
       "            (function(){\n",
       "\n",
       "                var e = null;\n",
       "                if (typeof element == 'undefined') {\n",
       "                    var scripts = document.getElementsByTagName('script');\n",
       "                    var thisScriptTag = scripts[scripts.length-1];\n",
       "                    var parentDiv = thisScriptTag.parentNode;\n",
       "                    e = document.createElement('div');\n",
       "                    parentDiv.appendChild(e);\n",
       "                } else {\n",
       "                    e = element[0];\n",
       "                }\n",
       "\n",
       "                if (typeof requirejs !== 'undefined') {\n",
       "                    // disable load timeout; ipython_app.js is large and can take a while to load.\n",
       "                    requirejs.config({waitSeconds: 0});\n",
       "                }\n",
       "\n",
       "                require(['https://static.turi.com/products/graphlab-create/2.1/canvas/js/ipython_app.js'], function(IPythonApp){\n",
       "                    var app = new IPythonApp();\n",
       "                    app.attachView('sarray','Categorical', {\"ipython\": true, \"sketch\": {\"complete\": true, \"numeric\": false, \"num_unique\": 700922, \"num_undefined\": 0, \"progress\": 1.0, \"frequent_items\": {\"Jingle Bells\": {\"frequency\": 104, \"value\": \"Jingle Bells\"}, \"Walk Away\": {\"frequency\": 98, \"value\": \"Walk Away\"}, \"Silent Night\": {\"frequency\": 218, \"value\": \"Silent Night\"}, \"Interlude\": {\"frequency\": 300, \"value\": \"Interlude\"}, \"Another Day\": {\"frequency\": 104, \"value\": \"Another Day\"}, \"Paradise\": {\"frequency\": 122, \"value\": \"Paradise\"}, \"Smile\": {\"frequency\": 176, \"value\": \"Smile\"}, \"These Foolish Things\": {\"frequency\": 31, \"value\": \"These Foolish ...\"}, \"Winter Wonderland\": {\"frequency\": 101, \"value\": \"Winter Wonderland\"}, \"Breathe\": {\"frequency\": 106, \"value\": \"Breathe\"}, \"Borderline\": {\"frequency\": 40, \"value\": \"Borderline\"}, \"Close Your Eyes\": {\"frequency\": 74, \"value\": \"Close Your Eyes\"}, \"Come On\": {\"frequency\": 68, \"value\": \"Come On\"}, \"Rain\": {\"frequency\": 155, \"value\": \"Rain\"}, \"Broken\": {\"frequency\": 91, \"value\": \"Broken\"}, \"Surrender\": {\"frequency\": 99, \"value\": \"Surrender\"}, \"Change\": {\"frequency\": 107, \"value\": \"Change\"}, \"Shadows\": {\"frequency\": 60, \"value\": \"Shadows\"}, \"Love Me\": {\"frequency\": 60, \"value\": \"Love Me\"}, \"Love\": {\"frequency\": 135, \"value\": \"Love\"}, \"Control\": {\"frequency\": 54, \"value\": \"Control\"}, \"Someday\": {\"frequency\": 122, \"value\": \"Someday\"}, \"Lullaby\": {\"frequency\": 120, \"value\": \"Lullaby\"}, \"My Love\": {\"frequency\": 94, \"value\": \"My Love\"}, \"Angel\": {\"frequency\": 147, \"value\": \"Angel\"}, \"Move\": {\"frequency\": 53, \"value\": \"Move\"}, \"I Want You\": {\"frequency\": 110, \"value\": \"I Want You\"}, \"Sunrise\": {\"frequency\": 79, \"value\": \"Sunrise\"}, \"True Love\": {\"frequency\": 81, \"value\": \"True Love\"}, \"Solitude\": {\"frequency\": 74, \"value\": \"Solitude\"}, \"Stars\": {\"frequency\": 73, \"value\": \"Stars\"}, \"Only You\": {\"frequency\": 86, \"value\": \"Only You\"}, \"Waiting\": {\"frequency\": 116, \"value\": \"Waiting\"}, \"On The Run\": {\"frequency\": 31, \"value\": \"On The Run\"}, \"Easy\": {\"frequency\": 87, \"value\": \"Easy\"}, \"My Funny Valentine\": {\"frequency\": 86, \"value\": \"My Funny Valentine\"}, \"Butterfly\": {\"frequency\": 95, \"value\": \"Butterfly\"}, \"Down\": {\"frequency\": 91, \"value\": \"Down\"}, \"Life\": {\"frequency\": 96, \"value\": \"Life\"}, \"It Never Entered My Mind\": {\"frequency\": 25, \"value\": \"It Never Entered ...\"}, \"Fire\": {\"frequency\": 157, \"value\": \"Fire\"}, \"Aurora\": {\"frequency\": 57, \"value\": \"Aurora\"}, \"Rise\": {\"frequency\": 101, \"value\": \"Rise\"}, \"Alone\": {\"frequency\": 134, \"value\": \"Alone\"}, \"I Believe\": {\"frequency\": 155, \"value\": \"I Believe\"}, \"Forever\": {\"frequency\": 156, \"value\": \"Forever\"}, \"Heaven\": {\"frequency\": 152, \"value\": \"Heaven\"}, \"Superstar\": {\"frequency\": 102, \"value\": \"Superstar\"}, \"Stranger\": {\"frequency\": 62, \"value\": \"Stranger\"}, \"Freedom\": {\"frequency\": 131, \"value\": \"Freedom\"}, \"Sometimes\": {\"frequency\": 127, \"value\": \"Sometimes\"}, \"Untitled\": {\"frequency\": 419, \"value\": \"Untitled\"}, \"Goodbye\": {\"frequency\": 160, \"value\": \"Goodbye\"}, \"Fly Away\": {\"frequency\": 82, \"value\": \"Fly Away\"}, \"Changes\": {\"frequency\": 83, \"value\": \"Changes\"}, \"Silence\": {\"frequency\": 109, \"value\": \"Silence\"}, \"Gone\": {\"frequency\": 113, \"value\": \"Gone\"}, \"Revolution\": {\"frequency\": 119, \"value\": \"Revolution\"}, \"Say Goodbye\": {\"frequency\": 41, \"value\": \"Say Goodbye\"}, \"Josephine\": {\"frequency\": 27, \"value\": \"Josephine\"}, \"Thank You\": {\"frequency\": 86, \"value\": \"Thank You\"}, \"Unchained Melody\": {\"frequency\": 57, \"value\": \"Unchained Melody\"}, \"Outro\": {\"frequency\": 347, \"value\": \"Outro\"}, \"Home\": {\"frequency\": 236, \"value\": \"Home\"}, \"Everyday\": {\"frequency\": 90, \"value\": \"Everyday\"}, \"Closer\": {\"frequency\": 92, \"value\": \"Closer\"}, \"This Time\": {\"frequency\": 84, \"value\": \"This Time\"}, \"Again\": {\"frequency\": 65, \"value\": \"Again\"}, \"Memories\": {\"frequency\": 97, \"value\": \"Memories\"}, \"Everything\": {\"frequency\": 118, \"value\": \"Everything\"}, \"Free\": {\"frequency\": 125, \"value\": \"Free\"}, \"Storm\": {\"frequency\": 45, \"value\": \"Storm\"}, \"Holiday\": {\"frequency\": 43, \"value\": \"Holiday\"}, \"Bonus Track\": {\"frequency\": 150, \"value\": \"Bonus Track\"}, \"Infinity\": {\"frequency\": 47, \"value\": \"Infinity\"}, \"Get Up\": {\"frequency\": 80, \"value\": \"Get Up\"}, \"All Night Long\": {\"frequency\": 90, \"value\": \"All Night Long\"}, \"Stay\": {\"frequency\": 155, \"value\": \"Stay\"}, \"I Know\": {\"frequency\": 99, \"value\": \"I Know\"}, \"Tell Me Why\": {\"frequency\": 78, \"value\": \"Tell Me Why\"}, \"Remember\": {\"frequency\": 106, \"value\": \"Remember\"}, \"Tell Me\": {\"frequency\": 121, \"value\": \"Tell Me\"}, \"Apathy\": {\"frequency\": 13, \"value\": \"Apathy\"}, \"Save Me\": {\"frequency\": 79, \"value\": \"Save Me\"}, \"I Love You\": {\"frequency\": 111, \"value\": \"I Love You\"}, \"Call Me\": {\"frequency\": 85, \"value\": \"Call Me\"}, \"Time\": {\"frequency\": 208, \"value\": \"Time\"}, \"Leave Me Alone\": {\"frequency\": 58, \"value\": \"Leave Me Alone\"}, \"History\": {\"frequency\": 36, \"value\": \"History\"}, \"Beautiful\": {\"frequency\": 124, \"value\": \"Beautiful\"}, \"Ave Maria\": {\"frequency\": 88, \"value\": \"Ave Maria\"}, \"Crazy\": {\"frequency\": 135, \"value\": \"Crazy\"}, \"Believe\": {\"frequency\": 112, \"value\": \"Believe\"}, \"I Don't Know\": {\"frequency\": 88, \"value\": \"I Don't Know\"}, \"Tonight\": {\"frequency\": 183, \"value\": \"Tonight\"}, \"Intro\": {\"frequency\": 1512, \"value\": \"Intro\"}, \"Amazing Grace\": {\"frequency\": 126, \"value\": \"Amazing Grace\"}, \"Tomorrow\": {\"frequency\": 104, \"value\": \"Tomorrow\"}, \"I Need You\": {\"frequency\": 69, \"value\": \"I Need You\"}, \"Introduction\": {\"frequency\": 172, \"value\": \"Introduction\"}, \"For You\": {\"frequency\": 85, \"value\": \"For You\"}, \"Summertime\": {\"frequency\": 178, \"value\": \"Summertime\"}, \"You\": {\"frequency\": 153, \"value\": \"You\"}, \"Falling\": {\"frequency\": 98, \"value\": \"Falling\"}, \"Hope\": {\"frequency\": 77, \"value\": \"Hope\"}, \"Hold On\": {\"frequency\": 200, \"value\": \"Hold On\"}, \"Fever\": {\"frequency\": 118, \"value\": \"Fever\"}, \"Get Down\": {\"frequency\": 77, \"value\": \"Get Down\"}, \"Sunshine\": {\"frequency\": 120, \"value\": \"Sunshine\"}, \"Overture\": {\"frequency\": 80, \"value\": \"Overture\"}, \"Let It Go\": {\"frequency\": 82, \"value\": \"Let It Go\"}, \"Friends\": {\"frequency\": 71, \"value\": \"Friends\"}, \"Why\": {\"frequency\": 130, \"value\": \"Why\"}, \"Dreams\": {\"frequency\": 86, \"value\": \"Dreams\"}, \"Shine\": {\"frequency\": 154, \"value\": \"Shine\"}, \"My One And Only Love\": {\"frequency\": 24, \"value\": \"My One And Only ...\"}, \"White Christmas\": {\"frequency\": 154, \"value\": \"White Christmas\"}, \"Lost\": {\"frequency\": 128, \"value\": \"Lost\"}, \"Always\": {\"frequency\": 105, \"value\": \"Always\"}, \"Medley\": {\"frequency\": 75, \"value\": \"Medley\"}, \"Wake Up\": {\"frequency\": 130, \"value\": \"Wake Up\"}, \"Hallelujah\": {\"frequency\": 79, \"value\": \"Hallelujah\"}, \"Without You\": {\"frequency\": 132, \"value\": \"Without You\"}, \"I'll Be There\": {\"frequency\": 62, \"value\": \"I'll Be There\"}, \"One\": {\"frequency\": 86, \"value\": \"One\"}, \"I Don't Care\": {\"frequency\": 82, \"value\": \"I Don't Care\"}, \"Radio\": {\"frequency\": 68, \"value\": \"Radio\"}, \"Sleigh Ride\": {\"frequency\": 56, \"value\": \"Sleigh Ride\"}, \"Last Night\": {\"frequency\": 77, \"value\": \"Last Night\"}, \"Girl\": {\"frequency\": 50, \"value\": \"Girl\"}, \"Runaway\": {\"frequency\": 140, \"value\": \"Runaway\"}}, \"size\": 1000000}, \"selected_variable\": {\"name\": [\"<SArray>\"], \"dtype\": \"str\", \"view_component\": \"Categorical\", \"view_file\": \"sarray\", \"descriptives\": {\"rows\": 1000000}, \"type\": \"SArray\", \"view_components\": [\"Categorical\"]}, \"histogram\": null}, e);\n",
       "                });\n",
       "            })();\n",
       "        "
      ]
     },
     "metadata": {},
     "output_type": "display_data"
    }
   ],
   "source": [
    "songs['title'].show(view='Categorical')"
   ]
  },
  {
   "cell_type": "code",
   "execution_count": 14,
   "metadata": {
    "collapsed": false
   },
   "outputs": [
    {
     "data": {
      "application/javascript": [
       "$(\"head\").append($(\"<link/>\").attr({\n",
       "  rel:  \"stylesheet\",\n",
       "  type: \"text/css\",\n",
       "  href: \"//cdnjs.cloudflare.com/ajax/libs/font-awesome/4.1.0/css/font-awesome.min.css\"\n",
       "}));\n",
       "$(\"head\").append($(\"<link/>\").attr({\n",
       "  rel:  \"stylesheet\",\n",
       "  type: \"text/css\",\n",
       "  href: \"https://static.turi.com/products/graphlab-create/2.1/canvas/css/canvas.css\"\n",
       "}));\n",
       "\n",
       "            (function(){\n",
       "\n",
       "                var e = null;\n",
       "                if (typeof element == 'undefined') {\n",
       "                    var scripts = document.getElementsByTagName('script');\n",
       "                    var thisScriptTag = scripts[scripts.length-1];\n",
       "                    var parentDiv = thisScriptTag.parentNode;\n",
       "                    e = document.createElement('div');\n",
       "                    parentDiv.appendChild(e);\n",
       "                } else {\n",
       "                    e = element[0];\n",
       "                }\n",
       "\n",
       "                if (typeof requirejs !== 'undefined') {\n",
       "                    // disable load timeout; ipython_app.js is large and can take a while to load.\n",
       "                    requirejs.config({waitSeconds: 0});\n",
       "                }\n",
       "\n",
       "                require(['https://static.turi.com/products/graphlab-create/2.1/canvas/js/ipython_app.js'], function(IPythonApp){\n",
       "                    var app = new IPythonApp();\n",
       "                    app.attachView('sarray','Numeric', {\"ipython\": true, \"sketch\": {\"std\": 998.7445030671116, \"complete\": true, \"min\": 0.0, \"max\": 2011.0, \"quantile\": [0.0, 0.0, 0.0, 0.0, 0.0, 0.0, 0.0, 0.0, 0.0, 0.0, 0.0, 0.0, 0.0, 0.0, 0.0, 0.0, 0.0, 0.0, 0.0, 0.0, 0.0, 0.0, 0.0, 0.0, 0.0, 0.0, 0.0, 0.0, 0.0, 0.0, 0.0, 0.0, 0.0, 0.0, 0.0, 0.0, 0.0, 0.0, 0.0, 0.0, 0.0, 0.0, 0.0, 0.0, 0.0, 0.0, 0.0, 0.0, 0.0, 1963.0, 1969.0, 1974.0, 1978.0, 1981.0, 1984.0, 1987.0, 1989.0, 1990.0, 1991.0, 1992.0, 1993.0, 1994.0, 1995.0, 1996.0, 1996.0, 1997.0, 1998.0, 1998.0, 1999.0, 1999.0, 2000.0, 2000.0, 2001.0, 2001.0, 2002.0, 2002.0, 2003.0, 2003.0, 2003.0, 2004.0, 2004.0, 2004.0, 2005.0, 2005.0, 2005.0, 2006.0, 2006.0, 2006.0, 2006.0, 2007.0, 2007.0, 2007.0, 2007.0, 2008.0, 2008.0, 2008.0, 2009.0, 2009.0, 2009.0, 2009.0, 2011.0], \"median\": 1969.0, \"numeric\": true, \"num_unique\": 90, \"num_undefined\": 0, \"var\": 997490.5824067718, \"progress\": 1.0, \"size\": 1000000, \"frequent_items\": {\"0\": {\"frequency\": 484424, \"value\": 0}, \"1922\": {\"frequency\": 6, \"value\": 1922}, \"1924\": {\"frequency\": 5, \"value\": 1924}, \"1925\": {\"frequency\": 7, \"value\": 1925}, \"1926\": {\"frequency\": 19, \"value\": 1926}, \"1927\": {\"frequency\": 43, \"value\": 1927}, \"1928\": {\"frequency\": 52, \"value\": 1928}, \"1929\": {\"frequency\": 93, \"value\": 1929}, \"1930\": {\"frequency\": 40, \"value\": 1930}, \"1931\": {\"frequency\": 35, \"value\": 1931}, \"1932\": {\"frequency\": 11, \"value\": 1932}, \"1933\": {\"frequency\": 6, \"value\": 1933}, \"1934\": {\"frequency\": 29, \"value\": 1934}, \"1935\": {\"frequency\": 24, \"value\": 1935}, \"1936\": {\"frequency\": 25, \"value\": 1936}, \"1937\": {\"frequency\": 28, \"value\": 1937}, \"1938\": {\"frequency\": 19, \"value\": 1938}, \"1939\": {\"frequency\": 35, \"value\": 1939}, \"1940\": {\"frequency\": 52, \"value\": 1940}, \"1941\": {\"frequency\": 32, \"value\": 1941}, \"1942\": {\"frequency\": 24, \"value\": 1942}, \"1943\": {\"frequency\": 14, \"value\": 1943}, \"1944\": {\"frequency\": 15, \"value\": 1944}, \"1945\": {\"frequency\": 30, \"value\": 1945}, \"1946\": {\"frequency\": 29, \"value\": 1946}, \"1947\": {\"frequency\": 57, \"value\": 1947}, \"1948\": {\"frequency\": 43, \"value\": 1948}, \"1949\": {\"frequency\": 60, \"value\": 1949}, \"1950\": {\"frequency\": 84, \"value\": 1950}, \"1951\": {\"frequency\": 74, \"value\": 1951}, \"1952\": {\"frequency\": 77, \"value\": 1952}, \"1953\": {\"frequency\": 133, \"value\": 1953}, \"1954\": {\"frequency\": 123, \"value\": 1954}, \"1955\": {\"frequency\": 275, \"value\": 1955}, \"1956\": {\"frequency\": 565, \"value\": 1956}, \"1957\": {\"frequency\": 598, \"value\": 1957}, \"1958\": {\"frequency\": 583, \"value\": 1958}, \"1959\": {\"frequency\": 592, \"value\": 1959}, \"1960\": {\"frequency\": 424, \"value\": 1960}, \"1961\": {\"frequency\": 572, \"value\": 1961}, \"1962\": {\"frequency\": 605, \"value\": 1962}, \"1963\": {\"frequency\": 902, \"value\": 1963}, \"1964\": {\"frequency\": 945, \"value\": 1964}, \"1965\": {\"frequency\": 1120, \"value\": 1965}, \"1966\": {\"frequency\": 1377, \"value\": 1966}, \"1967\": {\"frequency\": 1718, \"value\": 1967}, \"1968\": {\"frequency\": 1867, \"value\": 1968}, \"1969\": {\"frequency\": 2211, \"value\": 1969}, \"1970\": {\"frequency\": 2350, \"value\": 1970}, \"1971\": {\"frequency\": 2131, \"value\": 1971}, \"1972\": {\"frequency\": 2288, \"value\": 1972}, \"1973\": {\"frequency\": 2596, \"value\": 1973}, \"1974\": {\"frequency\": 2186, \"value\": 1974}, \"1975\": {\"frequency\": 2482, \"value\": 1975}, \"1976\": {\"frequency\": 2179, \"value\": 1976}, \"1977\": {\"frequency\": 2502, \"value\": 1977}, \"1978\": {\"frequency\": 2926, \"value\": 1978}, \"1979\": {\"frequency\": 3108, \"value\": 1979}, \"1980\": {\"frequency\": 3101, \"value\": 1980}, \"1981\": {\"frequency\": 3167, \"value\": 1981}, \"1982\": {\"frequency\": 3597, \"value\": 1982}, \"1983\": {\"frequency\": 3386, \"value\": 1983}, \"1984\": {\"frequency\": 3368, \"value\": 1984}, \"1985\": {\"frequency\": 3578, \"value\": 1985}, \"1986\": {\"frequency\": 4220, \"value\": 1986}, \"1987\": {\"frequency\": 5125, \"value\": 1987}, \"1988\": {\"frequency\": 5613, \"value\": 1988}, \"1989\": {\"frequency\": 6672, \"value\": 1989}, \"1990\": {\"frequency\": 7258, \"value\": 1990}, \"1991\": {\"frequency\": 8650, \"value\": 1991}, \"1992\": {\"frequency\": 9547, \"value\": 1992}, \"1993\": {\"frequency\": 10529, \"value\": 1993}, \"1994\": {\"frequency\": 12127, \"value\": 1994}, \"1995\": {\"frequency\": 13260, \"value\": 1995}, \"1996\": {\"frequency\": 14135, \"value\": 1996}, \"1997\": {\"frequency\": 15182, \"value\": 1997}, \"1998\": {\"frequency\": 15858, \"value\": 1998}, \"1999\": {\"frequency\": 18262, \"value\": 1999}, \"2000\": {\"frequency\": 19293, \"value\": 2000}, \"2001\": {\"frequency\": 21604, \"value\": 2001}, \"2002\": {\"frequency\": 23472, \"value\": 2002}, \"2003\": {\"frequency\": 27389, \"value\": 2003}, \"2004\": {\"frequency\": 29618, \"value\": 2004}, \"2005\": {\"frequency\": 34960, \"value\": 2005}, \"2006\": {\"frequency\": 37546, \"value\": 2006}, \"2007\": {\"frequency\": 39414, \"value\": 2007}, \"2008\": {\"frequency\": 34770, \"value\": 2008}, \"2009\": {\"frequency\": 31051, \"value\": 2009}, \"2010\": {\"frequency\": 9397, \"value\": 2010}, \"2011\": {\"frequency\": 1, \"value\": 2011}}, \"mean\": 1030.3256520000118}, \"selected_variable\": {\"name\": [\"<SArray>\"], \"dtype\": \"int\", \"view_component\": \"Numeric\", \"view_file\": \"sarray\", \"descriptives\": {\"rows\": 1000000}, \"type\": \"SArray\", \"view_components\": [\"Numeric\", \"Categorical\"]}, \"histogram\": {\"progress\": 1.0, \"histogram\": {\"max\": 2011.288, \"bins\": [484424, 0, 0, 0, 0, 0, 0, 0, 0, 0, 0, 515576], \"min\": -3.9440000000000026}, \"min\": 0, \"complete\": 1, \"max\": 2011}}, e);\n",
       "                });\n",
       "            })();\n",
       "        "
      ]
     },
     "metadata": {},
     "output_type": "display_data"
    }
   ],
   "source": [
    "songs['year'].show(view='Numeric')"
   ]
  },
  {
   "cell_type": "markdown",
   "metadata": {},
   "source": [
    "## Computation on columns"
   ]
  },
  {
   "cell_type": "code",
   "execution_count": 15,
   "metadata": {
    "collapsed": false
   },
   "outputs": [
    {
     "data": {
      "text/plain": [
       "1030.3256520000118"
      ]
     },
     "execution_count": 15,
     "metadata": {},
     "output_type": "execute_result"
    }
   ],
   "source": [
    "songs['year'].mean()"
   ]
  },
  {
   "cell_type": "markdown",
   "metadata": {},
   "source": [
    "## Transforming columns "
   ]
  },
  {
   "cell_type": "code",
   "execution_count": 16,
   "metadata": {
    "collapsed": true
   },
   "outputs": [],
   "source": [
    "# Add a new column num_words to the table \n",
    "songs['num_words'] = songs['title'].apply(lambda x: len(x.split(' ')))"
   ]
  },
  {
   "cell_type": "markdown",
   "metadata": {},
   "source": [
    "## Aggregations"
   ]
  },
  {
   "cell_type": "code",
   "execution_count": 17,
   "metadata": {
    "collapsed": false
   },
   "outputs": [
    {
     "data": {
      "text/html": [
       "<div style=\"max-height:1000px;max-width:1500px;overflow:auto;\"><table frame=\"box\" rules=\"cols\">\n",
       "    <tr>\n",
       "        <th style=\"padding-left: 1em; padding-right: 1em; text-align: center\">artist_name</th>\n",
       "        <th style=\"padding-left: 1em; padding-right: 1em; text-align: center\">total</th>\n",
       "    </tr>\n",
       "    <tr>\n",
       "        <td style=\"padding-left: 1em; padding-right: 1em; text-align: center; vertical-align: top\">Gary Lewis &amp; The Playboys</td>\n",
       "        <td style=\"padding-left: 1em; padding-right: 1em; text-align: center; vertical-align: top\">45</td>\n",
       "    </tr>\n",
       "    <tr>\n",
       "        <td style=\"padding-left: 1em; padding-right: 1em; text-align: center; vertical-align: top\">The Dells</td>\n",
       "        <td style=\"padding-left: 1em; padding-right: 1em; text-align: center; vertical-align: top\">54</td>\n",
       "    </tr>\n",
       "    <tr>\n",
       "        <td style=\"padding-left: 1em; padding-right: 1em; text-align: center; vertical-align: top\">DJ Konnat</td>\n",
       "        <td style=\"padding-left: 1em; padding-right: 1em; text-align: center; vertical-align: top\">1</td>\n",
       "    </tr>\n",
       "    <tr>\n",
       "        <td style=\"padding-left: 1em; padding-right: 1em; text-align: center; vertical-align: top\">VULTURE WHALE</td>\n",
       "        <td style=\"padding-left: 1em; padding-right: 1em; text-align: center; vertical-align: top\">11</td>\n",
       "    </tr>\n",
       "    <tr>\n",
       "        <td style=\"padding-left: 1em; padding-right: 1em; text-align: center; vertical-align: top\">Martha Argerich/Kathia<br>Buniatishvili/Dora ...</td>\n",
       "        <td style=\"padding-left: 1em; padding-right: 1em; text-align: center; vertical-align: top\">1</td>\n",
       "    </tr>\n",
       "    <tr>\n",
       "        <td style=\"padding-left: 1em; padding-right: 1em; text-align: center; vertical-align: top\">S.S featuring Jp_ Mar Da<br>Cigar Splitter ...</td>\n",
       "        <td style=\"padding-left: 1em; padding-right: 1em; text-align: center; vertical-align: top\">1</td>\n",
       "    </tr>\n",
       "    <tr>\n",
       "        <td style=\"padding-left: 1em; padding-right: 1em; text-align: center; vertical-align: top\">Ian Astbury</td>\n",
       "        <td style=\"padding-left: 1em; padding-right: 1em; text-align: center; vertical-align: top\">11</td>\n",
       "    </tr>\n",
       "    <tr>\n",
       "        <td style=\"padding-left: 1em; padding-right: 1em; text-align: center; vertical-align: top\">Big L / Kool G Rap</td>\n",
       "        <td style=\"padding-left: 1em; padding-right: 1em; text-align: center; vertical-align: top\">1</td>\n",
       "    </tr>\n",
       "    <tr>\n",
       "        <td style=\"padding-left: 1em; padding-right: 1em; text-align: center; vertical-align: top\">Son House</td>\n",
       "        <td style=\"padding-left: 1em; padding-right: 1em; text-align: center; vertical-align: top\">106</td>\n",
       "    </tr>\n",
       "    <tr>\n",
       "        <td style=\"padding-left: 1em; padding-right: 1em; text-align: center; vertical-align: top\">Lil Wayne / BG</td>\n",
       "        <td style=\"padding-left: 1em; padding-right: 1em; text-align: center; vertical-align: top\">1</td>\n",
       "    </tr>\n",
       "</table>\n",
       "[72664 rows x 2 columns]<br/>Note: Only the head of the SFrame is printed.<br/>You can use print_rows(num_rows=m, num_columns=n) to print more rows and columns.\n",
       "</div>"
      ],
      "text/plain": [
       "Columns:\n",
       "\tartist_name\tstr\n",
       "\ttotal\tint\n",
       "\n",
       "Rows: 72664\n",
       "\n",
       "Data:\n",
       "+-------------------------------+-------+\n",
       "|          artist_name          | total |\n",
       "+-------------------------------+-------+\n",
       "|   Gary Lewis & The Playboys   |   45  |\n",
       "|           The Dells           |   54  |\n",
       "|           DJ Konnat           |   1   |\n",
       "|         VULTURE WHALE         |   11  |\n",
       "| Martha Argerich/Kathia Bun... |   1   |\n",
       "| S.S featuring Jp_ Mar Da C... |   1   |\n",
       "|          Ian Astbury          |   11  |\n",
       "|       Big L / Kool G Rap      |   1   |\n",
       "|           Son House           |  106  |\n",
       "|         Lil Wayne / BG        |   1   |\n",
       "+-------------------------------+-------+\n",
       "[72664 rows x 2 columns]\n",
       "Note: Only the head of the SFrame is printed.\n",
       "You can use print_rows(num_rows=m, num_columns=n) to print more rows and columns."
      ]
     },
     "execution_count": 17,
     "metadata": {},
     "output_type": "execute_result"
    }
   ],
   "source": [
    "songs.groupby('artist_name', {'total': gl.aggregate.COUNT})"
   ]
  },
  {
   "cell_type": "code",
   "execution_count": null,
   "metadata": {
    "collapsed": true
   },
   "outputs": [],
   "source": []
  }
 ],
 "metadata": {
  "kernelspec": {
   "display_name": "Python 2",
   "language": "python",
   "name": "python2"
  },
  "language_info": {
   "codemirror_mode": {
    "name": "ipython",
    "version": 2
   },
   "file_extension": ".py",
   "mimetype": "text/x-python",
   "name": "python",
   "nbconvert_exporter": "python",
   "pygments_lexer": "ipython2",
   "version": "2.7.11"
  }
 },
 "nbformat": 4,
 "nbformat_minor": 0
}
